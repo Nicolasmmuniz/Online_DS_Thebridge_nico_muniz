{
 "cells": [
  {
   "cell_type": "code",
   "execution_count": null,
   "id": "af838904-d5d5-40d5-90a4-ffb01b27a4b7",
   "metadata": {},
   "outputs": [],
   "source": [
    "1! = 1\n",
    "2! = 2(1) = 2\n",
    "3! = 3(2)(1) = 6\n",
    "4! = 4(3)(2)(1) = 24\n",
    "5! = 5(4)(3)(2)(1) = 120\n",
    "\n",
    "n! = n * (n-1)!"
   ]
  },
  {
   "cell_type": "code",
   "execution_count": null,
   "id": "b4263a71-2b6d-4990-8796-2e2de8c1767f",
   "metadata": {},
   "outputs": [],
   "source": [
    "# RECURSIVIDAD. como funciona\n",
    "\n",
    "factorial (3): # n = 3\n",
    "    if n == 1: # False\n",
    "        return 1 # no hace esto\n",
    "    return n * factorial(2) ---- > factorial(2): # n =2\n",
    "                                        if n ==1: # False\n",
    "                                            return 1 # no lo hace\n",
    "                                        return n * factorial(1) -----> factorial(1): # n = 1\n",
    "                                                                            if n==1: #true\n",
    "  <----     3       *        2        <------     2       *       1      <-----  return 1 \n",
    "                                                    \n",
    "6 # Factoreal de 3 devuelve 6\n",
    "\n",
    "\n",
    "lo podemos calcular con un bucle\n",
    "num_fact = 3\n",
    " "
   ]
  }
 ],
 "metadata": {
  "kernelspec": {
   "display_name": "Python 3 (ipykernel)",
   "language": "python",
   "name": "python3"
  },
  "language_info": {
   "codemirror_mode": {
    "name": "ipython",
    "version": 3
   },
   "file_extension": ".py",
   "mimetype": "text/x-python",
   "name": "python",
   "nbconvert_exporter": "python",
   "pygments_lexer": "ipython3",
   "version": "3.12.0"
  }
 },
 "nbformat": 4,
 "nbformat_minor": 5
}
