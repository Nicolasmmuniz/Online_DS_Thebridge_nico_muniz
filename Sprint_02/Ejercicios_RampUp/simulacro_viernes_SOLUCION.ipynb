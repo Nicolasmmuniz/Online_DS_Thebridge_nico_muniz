{
 "cells": [
  {
   "attachments": {},
   "cell_type": "markdown",
   "metadata": {},
   "source": [
    "# Simulacro Rampup"
   ]
  },
  {
   "cell_type": "code",
   "execution_count": null,
   "metadata": {},
   "outputs": [],
   "source": [
    "# Escribe tu nombre y apellidos (apellido si solo tienes uno) en las variables:\n",
    "nombre = \"\"\n",
    "apellidos = \"\""
   ]
  },
  {
   "cell_type": "code",
   "execution_count": null,
   "metadata": {},
   "outputs": [],
   "source": [
    "# Solo ejecutar\n",
    "nombre_apellidos = nombre + ' ' + apellidos\n",
    "print(\"Bienvenido\", nombre_apellidos + '. Mucha suerte!')"
   ]
  },
  {
   "cell_type": "markdown",
   "metadata": {},
   "source": [
    "### Ejercicio 1: Calculadoras (3 puntos)\n"
   ]
  },
  {
   "cell_type": "markdown",
   "metadata": {},
   "source": [
    "Construye un programa que:\n",
    "\n",
    "- Salude al usuario por su nombre\n",
    "- Le pregunte si quiere sumar, restar, multiplicar o dividir\n",
    "- Pida que introduzca 2 números de manera sucesiva\n",
    "- Devuelva el resultado de manera formal con un mensaje apropiado \n",
    "\n",
    "**Ayuda**: No se puede dividir por 0"
   ]
  },
  {
   "cell_type": "code",
   "execution_count": 5,
   "metadata": {},
   "outputs": [
    {
     "name": "stdout",
     "output_type": "stream",
     "text": [
      "Hola, ¿cómo te llamas? Angela\n"
     ]
    },
    {
     "name": "stdout",
     "output_type": "stream",
     "text": [
      "Encantado de ayudarte Angela\n"
     ]
    },
    {
     "name": "stdout",
     "output_type": "stream",
     "text": [
      "¿Qué operación quieres hacer? sumar(s), restar(r), multiplicar(m) o dividir(d) restar\n"
     ]
    },
    {
     "name": "stdout",
     "output_type": "stream",
     "text": [
      "Perfecto, quieres hacer la operacion siguiente: restar\n"
     ]
    },
    {
     "name": "stdout",
     "output_type": "stream",
     "text": [
      "Introduce el primer numero, un entero: 4\n",
      "Introduce el segundo numero, un entero: 1\n"
     ]
    },
    {
     "name": "stdout",
     "output_type": "stream",
     "text": [
      "El resultado de tu operación 4 - 1 es 3, 4 - 1 = 3\n"
     ]
    }
   ],
   "source": [
    "nombre = input(\"Hola, ¿cómo te llamas?\")\n",
    "print(f\"Encantado de ayudarte {nombre}\")\n",
    "operacion = input(\"¿Qué operación quieres hacer? sumar(s), restar(r), multiplicar(m) o dividir(d)\")\n",
    "print(f\"Perfecto, quieres hacer la operacion siguiente: {operacion}\")\n",
    "numero1 = int(input(\"Introduce el primer numero, un entero:\"))\n",
    "numero2 = int(input(\"Introduce el segundo numero, un entero:\"))\n",
    "if operacion.lower() == \"sumar\" or operacion.lower() == \"s\":\n",
    "    resultado = numero1 + numero2\n",
    "    operacion = \"+\"\n",
    "    #print(f\"El resultado de tu operación {numero1} + {numero2} es {resultado}, {numero1} + {numero2} = {resultado}\")\n",
    "elif operacion.lower() == \"restar\" or operacion.lower() == \"r\":\n",
    "    resultado = numero1 - numero2\n",
    "    operacion = \"-\"\n",
    "elif operacion.lower() == \"multiplicar\" or operacion.lower() == \"m\":\n",
    "    resultado = numero1 * numero2\n",
    "    operacion = \"*\"\n",
    "elif operacion.lower() == \"dividir\" or operacion.lower() == \"d\":\n",
    "    if numero2 == 0:\n",
    "        print(\"No se puede dividir por 0, todavía, sorry\")\n",
    "        operacion = \"mala\"\n",
    "    else:\n",
    "        resultado = numero1 / numero2\n",
    "        operacion = \"/\"\n",
    "else:\n",
    "    print(\"Operacion no admitida\")\n",
    "    operacion = \"mala\"\n",
    "\n",
    "if operacion != \"mala\":\n",
    "    print(f\"El resultado de tu operación {numero1} {operacion} {numero2} es {resultado}, {numero1} {operacion} {numero2} = {resultado}\")\n"
   ]
  },
  {
   "cell_type": "markdown",
   "metadata": {},
   "source": [
    "Construye una calculadora que sea como la anterior pero:\n",
    "\n",
    "- Acepte tantos valores de entrada como queramos\n",
    "- Devuelva mensajes con las cuentas que se van haciendo.\n",
    "- Permita salir con una palabra clave (exit, quit, ...)"
   ]
  },
  {
   "cell_type": "code",
   "execution_count": 4,
   "metadata": {},
   "outputs": [
    {
     "name": "stdin",
     "output_type": "stream",
     "text": [
      "Hola, ¿cómo te llamas? nicolas\n"
     ]
    },
    {
     "name": "stdout",
     "output_type": "stream",
     "text": [
      "Encantado de ayudarte nicolas\n"
     ]
    },
    {
     "name": "stdin",
     "output_type": "stream",
     "text": [
      "¿Qué operación quieres hacer? sumar(s), restar(r), multiplicar(m) o dividir(d) s\n"
     ]
    },
    {
     "name": "stdout",
     "output_type": "stream",
     "text": [
      "Perfecto, quieres hacer la operacion siguiente: s\n"
     ]
    },
    {
     "name": "stdin",
     "output_type": "stream",
     "text": [
      "Introduce el primer numero, un entero: 3\n",
      "Introduce el segundo numero, un entero: 4\n"
     ]
    },
    {
     "name": "stdout",
     "output_type": "stream",
     "text": [
      "El resultado de tu operación 3 + 4 es 7, 3 + 4 = 7\n"
     ]
    },
    {
     "name": "stdin",
     "output_type": "stream",
     "text": [
      "¿Qué operación quieres hacer? sumar(s), restar(r), multiplicar(m) o dividir(d) \n"
     ]
    },
    {
     "name": "stdout",
     "output_type": "stream",
     "text": [
      "Perfecto, quieres hacer la operacion siguiente: \n"
     ]
    },
    {
     "name": "stdin",
     "output_type": "stream",
     "text": [
      "Introduce el primer numero, un entero: \n"
     ]
    },
    {
     "ename": "ValueError",
     "evalue": "invalid literal for int() with base 10: ''",
     "output_type": "error",
     "traceback": [
      "\u001b[0;31m---------------------------------------------------------------------------\u001b[0m",
      "\u001b[0;31mValueError\u001b[0m                                Traceback (most recent call last)",
      "Cell \u001b[0;32mIn[4], line 9\u001b[0m\n\u001b[1;32m      7\u001b[0m operacion \u001b[38;5;241m=\u001b[39m \u001b[38;5;28minput\u001b[39m(\u001b[38;5;124m\"\u001b[39m\u001b[38;5;124m¿Qué operación quieres hacer? sumar(s), restar(r), multiplicar(m) o dividir(d)\u001b[39m\u001b[38;5;124m\"\u001b[39m)\n\u001b[1;32m      8\u001b[0m \u001b[38;5;28mprint\u001b[39m(\u001b[38;5;124mf\u001b[39m\u001b[38;5;124m\"\u001b[39m\u001b[38;5;124mPerfecto, quieres hacer la operacion siguiente: \u001b[39m\u001b[38;5;132;01m{\u001b[39;00moperacion\u001b[38;5;132;01m}\u001b[39;00m\u001b[38;5;124m\"\u001b[39m)\n\u001b[0;32m----> 9\u001b[0m numero1 \u001b[38;5;241m=\u001b[39m \u001b[38;5;28;43mint\u001b[39;49m\u001b[43m(\u001b[49m\u001b[38;5;28;43minput\u001b[39;49m\u001b[43m(\u001b[49m\u001b[38;5;124;43m\"\u001b[39;49m\u001b[38;5;124;43mIntroduce el primer numero, un entero:\u001b[39;49m\u001b[38;5;124;43m\"\u001b[39;49m\u001b[43m)\u001b[49m\u001b[43m)\u001b[49m\n\u001b[1;32m     10\u001b[0m numero2 \u001b[38;5;241m=\u001b[39m \u001b[38;5;28mint\u001b[39m(\u001b[38;5;28minput\u001b[39m(\u001b[38;5;124m\"\u001b[39m\u001b[38;5;124mIntroduce el segundo numero, un entero:\u001b[39m\u001b[38;5;124m\"\u001b[39m))\n\u001b[1;32m     11\u001b[0m \u001b[38;5;28;01mif\u001b[39;00m operacion\u001b[38;5;241m.\u001b[39mlower() \u001b[38;5;241m==\u001b[39m \u001b[38;5;124m\"\u001b[39m\u001b[38;5;124msumar\u001b[39m\u001b[38;5;124m\"\u001b[39m \u001b[38;5;129;01mor\u001b[39;00m operacion\u001b[38;5;241m.\u001b[39mlower() \u001b[38;5;241m==\u001b[39m \u001b[38;5;124m\"\u001b[39m\u001b[38;5;124ms\u001b[39m\u001b[38;5;124m\"\u001b[39m:\n",
      "\u001b[0;31mValueError\u001b[0m: invalid literal for int() with base 10: ''"
     ]
    }
   ],
   "source": [
    "nombre = input(\"Hola, ¿cómo te llamas?\")\n",
    "print(f\"Encantado de ayudarte {nombre}\")\n",
    "\n",
    "final  = False\n",
    "\n",
    "while not final :\n",
    "    operacion = input(\"¿Qué operación quieres hacer? sumar(s), restar(r), multiplicar(m) o dividir(d)\")\n",
    "    print(f\"Perfecto, quieres hacer la operacion siguiente: {operacion}\")\n",
    "    numero1 = int(input(\"Introduce el primer numero, un entero:\"))\n",
    "    numero2 = int(input(\"Introduce el segundo numero, un entero:\"))\n",
    "    if operacion.lower() == \"sumar\" or operacion.lower() == \"s\":\n",
    "        resultado = numero1 + numero2\n",
    "        operacion = \"+\"\n",
    "        #print(f\"El resultado de tu operación {numero1} + {numero2} es {resultado}, {numero1} + {numero2} = {resultado}\")\n",
    "    elif operacion.lower() == \"restar\" or operacion.lower() == \"r\":\n",
    "        resultado = numero1 - numero2\n",
    "        operacion = \"-\"\n",
    "    elif operacion.lower() == \"multiplicar\" or operacion.lower() == \"m\":\n",
    "        resultado = numero1 * numero2\n",
    "        operacion = \"*\"\n",
    "    elif operacion.lower() == \"dividir\" or operacion.lower() == \"d\":\n",
    "        if numero2 == 0:\n",
    "            print(\"No se puede dividir por 0, todavía, sorry\")\n",
    "            operacion = \"mala\"\n",
    "    elif operacion.lower() == \"quit\" or operacion.lower() == \"exit\":\n",
    "            final = True\n",
    "            continue\n",
    "    else:\n",
    "        print(\"Operacion no admitida\")\n",
    "        operacion = \"mala\"\n",
    "        \n",
    "    if operacion != \"mala\":\n",
    "        print(f\"El resultado de tu operación {numero1} {operacion} {numero2} es {resultado}, {numero1} {operacion} {numero2} = {resultado}\")\n"
   ]
  },
  {
   "cell_type": "markdown",
   "metadata": {},
   "source": [
    "### Ejercicio 2 (4 puntos)\n",
    "\n",
    "Escribe un programa que trabaje con 3 listas:\n",
    "\n",
    "La lista ***grupo_musical*** contiene strings.\n",
    "\n",
    "La lista ***generos*** contiene strings.\n",
    "\n",
    "La lista ***anios*** puede contener un entero o tuplas.\n",
    "\n",
    "Ejemplo de datos:\n",
    "\n",
    ">\"ABBA\"\n",
    ">\n",
    ">\"pop\"\n",
    ">\n",
    ">(1972, 1982)\n",
    "\n",
    "Otro ejemplo:\n",
    "\n",
    ">\"Madonna\"\n",
    ">\n",
    ">\"pop\"\n",
    ">\n",
    ">1983\n",
    "\n",
    "Otro ejemplo:\n",
    "\n",
    ">\"Kölsch\"\n",
    ">\n",
    ">\"electronica\"\n",
    ">\n",
    ">1995\n",
    "\n",
    "Un grupo musical solo puede tener un género musical.\n",
    "Un grupo musical debe tener como mínimo un año de formación, que es un entero.\n",
    "Un grupo musical, si tuviese año de disolución, la información se guardaría en una tupla.\n",
    "\n",
    "Se pide implementar:\n",
    "\n",
    "a. Una función llamada *inserta* que acepte 4 parámetros (grupo, genero, comienzo, fin). El fin por defecto debe ser un objeto nulo. El grupo se inserta en la lista de grupos. El genero se inserta en la lista de géneros. El comienzo o comienzo y fin se inserta en la lista de años. La función no tiene valor retornado.\n",
    "\n",
    "b. Una función *busca_genero* con un parámetro de tipo string (genero) y devuelve una lista con todos los grupos de ese género.\n",
    "\n",
    "c. Una función *busca_grupos* con un parámetro booleano llamado *activos* con un valor por defecto verdadero. Cuando el valor es verdadero, devuelve solo los grupos activos en una lista. Cuando *activos* es falso, devuelve todos los grupos disueltos en una lista.\n",
    "\n",
    "d. Una función *busca_genero_indice* con un parámetro de tipo string (genero) que devuelve una lista con los índices donde se encuentra ese género.\n",
    "\n",
    "e. Una función *filtra_listas_genero* con un parámetro de tipo string (genero) que devuelve una tupla con las 3 listas filtradas y ***llame*** a busca_genero_indice\n",
    "\n",
    "f. Una función *anios_activos* que no tenga parámetros de entrada ni valor retornado que imprima línea a línea la información: grupo musical ---> años activos. Es decir: \n",
    "\n",
    ">ABBA ---> 10 años activos\n",
    ">\n",
    ">Madonna --> 40 años activos\n",
    ">\n",
    ">Kölsch --> 25 años activos\n",
    "\n",
    "\n",
    "Nota: si no te sale un apartado después de un tiempo prudencial, ¡pasa al siguiente!"
   ]
  },
  {
   "cell_type": "code",
   "execution_count": 8,
   "metadata": {},
   "outputs": [],
   "source": [
    "grupos = [\"ABBA\",\"Madonna\",\"Kolsh\"]\n",
    "generos = [\"pop\",\"pop\",\"electronica\"]\n",
    "anyos = []\n",
    "\n",
    "def inserta(nombre, genero, comienzo , fin = None):\n",
    "    grupos.append(nombre)\n",
    "    generos.append(genero)\n",
    "    if fin:\n",
    "        inicio_fin = (comienzo,fin)\n",
    "    else:\n",
    "        inicio_fin = comienzo\n",
    "    anyos.append(inicio_fin)\n",
    "\n",
    "def busca_genero(genero):\n",
    "    lista_grupo = []\n",
    "    for indice, genero_dest in enumerate(generos):\n",
    "        if genero == genero_dest:\n",
    "            lista_grupo.append(grupos[indice])\n",
    "    return lista_grupo\n",
    "\n",
    "def busca_grupos(activos = True):\n",
    "    grupos_res = []\n",
    "    for indice,anyo in enumerate(anyos):\n",
    "        if type(anyo) == int and activos:\n",
    "            grupos_res.append(grupos[indice])\n",
    "        elif type(anyo) == tuple and not activos:\n",
    "            grupos_res.append(grupos[indice])\n",
    "    return grupos_res\n",
    "\n",
    "def busca_genero_indice(genero):\n",
    "    lista_indices = []\n",
    "    for indice, genero_dest in enumerate(generos):\n",
    "        if genero == genero_dest:\n",
    "            lista_indices.append(indice)\n",
    "    return lista_indices\n",
    "\n",
    "def filtra_genero(genero):\n",
    "    indices = busca_genero(genero)\n",
    "    lista_grupos = []\n",
    "    lista_generos = []\n",
    "    lista_anyos = []\n",
    "    for indice in indices:\n",
    "        lista_grupos.append(grupos[indice])\n",
    "        lista_generos.append(generos[indice])\n",
    "        lista_anyos.append(anyos[indice])\n",
    "    return (lista_grupos, lista_generos, lista_anyos)\n",
    "\n",
    "def anyos_activo():\n",
    "    anyo_actual = 2023\n",
    "    for indice,grupo in enumerate(grupos):\n",
    "        datos_tiempo = anyos[indice]\n",
    "        if type(datos_tiempo) == int:\n",
    "            activos = anyo_actual - datos_tiempo\n",
    "        else:\n",
    "            activos = datos_tiempo[1] - datos_tiempo[0]\n",
    "        print(f\"{grupo} --> {activos} años\")\n",
    "        \n",
    "    "
   ]
  },
  {
   "cell_type": "code",
   "execution_count": 10,
   "metadata": {},
   "outputs": [
    {
     "data": {
      "text/plain": [
       "[]"
      ]
     },
     "execution_count": 10,
     "metadata": {},
     "output_type": "execute_result"
    }
   ],
   "source": [
    "busca_genero(\"pop\")"
   ]
  },
  {
   "attachments": {},
   "cell_type": "markdown",
   "metadata": {},
   "source": [
    "### Ejercicio 3 (3 puntos)\n",
    "\n",
    "#### Crear un programa que calcule la cuota de una hipoteca\n",
    "\n",
    "Las cuotas hipotecarias se calculan utilizando la fórmula del interés francés. \n",
    "\n",
    "La fórmula del interés francés es la siguiente:\n",
    "\\begin{align*}\n",
    "C=V \\frac{(1+i)^n i}{(1+i)^n -1}\n",
    "\\end{align*}\n",
    "\n",
    "\n",
    "    C = cuota a pagar (mensual)\n",
    "    V = volumen del préstamo hipotecario\n",
    "    i = tipo de interés del período (mensual)\n",
    "    n = número de cuotas (mensuales)\n",
    "\n"
   ]
  },
  {
   "attachments": {},
   "cell_type": "markdown",
   "metadata": {},
   "source": [
    "1. Crea un programa que solicite al usuario los datos de su hipoteca mediante input() los datos (volumen, interés **anual**, y plazo en **años**) y le devuelva la cuota **mensual** a pagar. No es necesario encapsularlo en funciones. (0.4)"
   ]
  },
  {
   "cell_type": "code",
   "execution_count": null,
   "metadata": {},
   "outputs": [],
   "source": [
    "datos = input(\"Por favor introduce volumen, interes anual y plazo (en meses) separado por comas:\")\n",
    "datos_list = datos.split(\",\")\n",
    "volumen = float(datos_list[0])\n",
    "interes = float(datos_list[1].replace(\"%\",\"\"))/100/12\n",
    "plazo = float(datos_list[2])\n",
    "numerador = ((1 + interes) ** plazo) * interes \n",
    "denominador = ((1 + interes) ** plazo) - 1\n",
    "cuota = volumen * (numerador / denominador)\n",
    "print(f\"Su cuota es {cuota}\")"
   ]
  },
  {
   "cell_type": "code",
   "execution_count": null,
   "metadata": {},
   "outputs": [],
   "source": []
  },
  {
   "attachments": {},
   "cell_type": "markdown",
   "metadata": {},
   "source": [
    "2. Crea una función `calcular_hip` que realiza el cálculo y cuyos argumentos de entrada sean `volumen`, `interes_anual` y `años`, devolviendo la couta mensual(float). El argumento de `años` deberá de tener un valor por defecto de 30. Documenta la función con el estilo de Google.  (0.4)"
   ]
  },
  {
   "cell_type": "code",
   "execution_count": null,
   "metadata": {},
   "outputs": [],
   "source": [
    "def calcular_hip(volumen, interes_anual, anios=30):\n",
    "    '''\n",
    "    Función que calcula la cuota mensual de una hipoteca\n",
    "    \n",
    "    Args:\n",
    "        volumen (float): El volumen total de la hipoteca en euros\n",
    "        interes_anual (float): Tasa de interés anual\n",
    "        anios (int): Número de años para liquidar la hipoteca\n",
    "    Return:\n",
    "        cuota (float): Cuota mensual para la hipoteca\n",
    "    '''\n",
    "    n_meses = anios * 12\n",
    "    interes = interes_anual / 100 / 12\n",
    "    cuota = volumen * ((1 + interes) ** n_meses) * interes / (((1 + interes) ** n_meses) - 1)\n",
    "    return cuota"
   ]
  },
  {
   "attachments": {},
   "cell_type": "markdown",
   "metadata": {},
   "source": [
    "3. Calcula la cuota y guárdala en la variable `res_cuota` si la cantidad de la hipoteca son 350000 euros, el interés anual es del 5% y la quiere pagar en 20 años a partir de la función `calcular_hip`. (0.4)\n",
    "\n"
   ]
  },
  {
   "cell_type": "code",
   "execution_count": null,
   "metadata": {},
   "outputs": [],
   "source": [
    "res_cuota = calcular_hip(350000,5,20)\n",
    "print(res_cuota)"
   ]
  },
  {
   "attachments": {},
   "cell_type": "markdown",
   "metadata": {},
   "source": [
    "4. Crea una función `gasto_vivienda`, con dos argumentos de entrada `ingreso` y `lista_hip`. Esta lista tendrá los 3 valores de los argumentos de entrada de `calcular_hip`, llamando a esta función desde dentro de `gasto_vivienda`. Tiene que devolver el valor del porcentaje de gasto en la hipoteca respecto a los ingresos. (Entre 0 y 1, es decir 0.5 si es del 50%) Documenta la función. (0.4)"
   ]
  },
  {
   "cell_type": "code",
   "execution_count": 5,
   "metadata": {},
   "outputs": [],
   "source": [
    "def gasto_vivienda(ingreso:float, lista_hip:list):\n",
    "    '''\n",
    "    Función que calcula el porcentaje de gasto de los ingresos en la hipoteca\n",
    "\n",
    "    Args:\n",
    "        ingreso (float): El ingreso mensual\n",
    "        lista_hip (list): Lista con los argumentos de volumen, interés anual y años\n",
    "\n",
    "    Return:\n",
    "        Porcentaje de la cuota mensaul respecto al ingreso\n",
    "    '''\n",
    "    cuota = calcular_hip(lista_hip[0],lista_hip[1],lista_hip[2])\n",
    "    return float(cuota / ingreso)"
   ]
  },
  {
   "attachments": {},
   "cell_type": "markdown",
   "metadata": {},
   "source": [
    "5. Calcula el porcentaje de gasto en la hipoteca si el ingreso es de 1700 euros y guárdalo en la variable `res_porcentaje` a partir de la función `gasto_vivienda`. (0.4)\n"
   ]
  },
  {
   "cell_type": "code",
   "execution_count": 6,
   "metadata": {},
   "outputs": [
    {
     "ename": "NameError",
     "evalue": "name 'calcular_hip' is not defined",
     "output_type": "error",
     "traceback": [
      "\u001b[0;31m---------------------------------------------------------------------------\u001b[0m",
      "\u001b[0;31mNameError\u001b[0m                                 Traceback (most recent call last)",
      "Cell \u001b[0;32mIn[6], line 1\u001b[0m\n\u001b[0;32m----> 1\u001b[0m res_porcentaje \u001b[38;5;241m=\u001b[39m \u001b[43mgasto_vivienda\u001b[49m\u001b[43m(\u001b[49m\u001b[38;5;241;43m1700\u001b[39;49m\u001b[43m,\u001b[49m\u001b[43m \u001b[49m\u001b[43m[\u001b[49m\u001b[38;5;241;43m350000\u001b[39;49m\u001b[43m,\u001b[49m\u001b[43m \u001b[49m\u001b[38;5;241;43m5\u001b[39;49m\u001b[43m,\u001b[49m\u001b[43m \u001b[49m\u001b[38;5;241;43m20\u001b[39;49m\u001b[43m]\u001b[49m\u001b[43m)\u001b[49m\n\u001b[1;32m      2\u001b[0m \u001b[38;5;28mprint\u001b[39m(res_porcentaje)\n",
      "Cell \u001b[0;32mIn[5], line 12\u001b[0m, in \u001b[0;36mgasto_vivienda\u001b[0;34m(ingreso, lista_hip)\u001b[0m\n\u001b[1;32m      1\u001b[0m \u001b[38;5;28;01mdef\u001b[39;00m \u001b[38;5;21mgasto_vivienda\u001b[39m(ingreso:\u001b[38;5;28mfloat\u001b[39m, lista_hip:\u001b[38;5;28mlist\u001b[39m):\n\u001b[1;32m      2\u001b[0m \u001b[38;5;250m    \u001b[39m\u001b[38;5;124;03m'''\u001b[39;00m\n\u001b[1;32m      3\u001b[0m \u001b[38;5;124;03m    Función que calcula el porcentaje de gasto de los ingresos en la hipoteca\u001b[39;00m\n\u001b[1;32m      4\u001b[0m \n\u001b[0;32m   (...)\u001b[0m\n\u001b[1;32m     10\u001b[0m \u001b[38;5;124;03m        Porcentaje de la cuota mensaul respecto al ingreso\u001b[39;00m\n\u001b[1;32m     11\u001b[0m \u001b[38;5;124;03m    '''\u001b[39;00m\n\u001b[0;32m---> 12\u001b[0m     cuota \u001b[38;5;241m=\u001b[39m \u001b[43mcalcular_hip\u001b[49m(lista_hip[\u001b[38;5;241m0\u001b[39m],lista_hip[\u001b[38;5;241m1\u001b[39m],lista_hip[\u001b[38;5;241m2\u001b[39m])\n\u001b[1;32m     13\u001b[0m     \u001b[38;5;28;01mreturn\u001b[39;00m \u001b[38;5;28mfloat\u001b[39m(cuota \u001b[38;5;241m/\u001b[39m ingreso)\n",
      "\u001b[0;31mNameError\u001b[0m: name 'calcular_hip' is not defined"
     ]
    }
   ],
   "source": [
    "res_porcentaje = gasto_vivienda(1700, [350000, 5, 20])\n",
    "print(res_porcentaje)"
   ]
  },
  {
   "cell_type": "code",
   "execution_count": null,
   "metadata": {},
   "outputs": [],
   "source": []
  }
 ],
 "metadata": {
  "kernelspec": {
   "display_name": "Python 3 (ipykernel)",
   "language": "python",
   "name": "python3"
  },
  "language_info": {
   "codemirror_mode": {
    "name": "ipython",
    "version": 3
   },
   "file_extension": ".py",
   "mimetype": "text/x-python",
   "name": "python",
   "nbconvert_exporter": "python",
   "pygments_lexer": "ipython3",
   "version": "3.12.0"
  },
  "vscode": {
   "interpreter": {
    "hash": "90139cb9a825bf3d63f6f6704e828dbd1ff7edbd4d0c6e906a71235d6efc74af"
   }
  }
 },
 "nbformat": 4,
 "nbformat_minor": 4
}
