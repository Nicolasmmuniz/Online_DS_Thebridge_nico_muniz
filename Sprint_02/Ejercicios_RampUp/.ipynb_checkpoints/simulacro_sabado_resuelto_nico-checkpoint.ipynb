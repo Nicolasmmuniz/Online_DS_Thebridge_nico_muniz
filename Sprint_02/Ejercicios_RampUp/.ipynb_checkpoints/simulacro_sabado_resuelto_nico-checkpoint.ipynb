{
 "cells": [
  {
   "attachments": {},
   "cell_type": "markdown",
   "metadata": {},
   "source": [
    "# Simulacro Rampup"
   ]
  },
  {
   "cell_type": "code",
   "execution_count": null,
   "metadata": {},
   "outputs": [],
   "source": [
    "# Escribe tu nombre y apellidos (apellido si solo tienes uno) en las variables:\n",
    "nombre = \"\"\n",
    "apellidos = \"\""
   ]
  },
  {
   "cell_type": "code",
   "execution_count": null,
   "metadata": {},
   "outputs": [],
   "source": [
    "# Solo ejecutar\n",
    "nombre_apellidos = nombre + ' ' + apellidos\n",
    "print(\"Bienvenido\", nombre_apellidos + '. Mucha suerte!')"
   ]
  },
  {
   "cell_type": "markdown",
   "metadata": {},
   "source": [
    "### Ejercicio 1: Calculadoras (3 puntos)\n"
   ]
  },
  {
   "cell_type": "markdown",
   "metadata": {},
   "source": [
    "Construye un programa que:\n",
    "\n",
    "- Salude al usuario por su nombre\n",
    "- Le pregunte si quiere sumar, restar, multiplicar o dividir\n",
    "- Pida que introduzca 2 números de manera sucesiva\n",
    "- Devuelva el resultado de manera formal con un mensaje apropiado \n",
    "\n",
    "**Ayuda**: No se puede dividir por 0"
   ]
  },
  {
   "cell_type": "code",
   "execution_count": 47,
   "metadata": {},
   "outputs": [
    {
     "name": "stdin",
     "output_type": "stream",
     "text": [
      "Hola, ¿cuál es tu nombre?  dividir\n"
     ]
    },
    {
     "name": "stdout",
     "output_type": "stream",
     "text": [
      "Hola dividir. Encantado de saludarte!\n"
     ]
    },
    {
     "name": "stdin",
     "output_type": "stream",
     "text": [
      "¿Qué operación deseas realizar. Puedes escoger entre sumar, restar, multiplicar, dividir?  dividir\n",
      "Introduce el primer número:  3\n",
      "Introduce el segundo número:  0\n"
     ]
    },
    {
     "name": "stdout",
     "output_type": "stream",
     "text": [
      "No se puede dividir por 0. Por favor, elige un divisor diferente de 0.\n"
     ]
    }
   ],
   "source": [
    "nombre = input(\"Hola, ¿cuál es tu nombre? \")\n",
    "print(f\"Hola {nombre}. Encantado de saludarte!\")\n",
    "operacion = input(\"¿Qué operación deseas realizar. Puedes escoger entre sumar, restar, multiplicar, dividir? \")\n",
    "\n",
    "if operacion not in [\"sumar\", \"restar\", \"multiplicar\", \"dividir\"]:\n",
    "    print(\"Operación no válida. Por favor, elige una operación válida.\")\n",
    "else:\n",
    "    numero1 = int(input(\"Introduce el primer número: \"))\n",
    "    numero2 = int(input(\"Introduce el segundo número: \"))\n",
    "    \n",
    "    if operacion == \"sumar\":\n",
    "        resultado = numero1 + numero2\n",
    "        print(f\"El resultado de sumar {numero1} y {numero2} es: {resultado}\")\n",
    "        \n",
    "    elif operacion == \"restar\":\n",
    "        resultado = numero1 - numero2\n",
    "        print(f\"El resultado de restar {numero2} de {numero1} es: {resultado}\")\n",
    "        \n",
    "    elif operacion == \"multiplicar\":\n",
    "        resultado = numero1 * numero2\n",
    "        print(f\"El resultado de multiplicar {numero1} por {numero2} es: {resultado}\")\n",
    "        \n",
    "    elif operacion == \"dividir\":\n",
    "        if numero2 == 0:\n",
    "            print(\"No se puede dividir por 0. Por favor, elige un divisor diferente de 0.\")\n",
    "        else:\n",
    "            resultado = numero1 / numero2\n",
    "            print(f\"El resultado de dividir {numero1} entre {numero2} es: {resultado}\")\n",
    "\n",
    "\n"
   ]
  },
  {
   "cell_type": "markdown",
   "metadata": {},
   "source": [
    "Construye una calculadora que sea como la anterior pero:\n",
    "\n",
    "- Acepte tantos valores de entrada como queramos\n",
    "- Devuelva mensajes con las cuentas que se van haciendo.\n",
    "- Permita salir con una palabra clave (exit, quit, ...)"
   ]
  },
  {
   "cell_type": "code",
   "execution_count": 53,
   "metadata": {},
   "outputs": [
    {
     "name": "stdin",
     "output_type": "stream",
     "text": [
      "Hola, ¿cuál es tu nombre?  nicolas\n"
     ]
    },
    {
     "name": "stdout",
     "output_type": "stream",
     "text": [
      "Hola nicolas. Encantado de saludarte!\n"
     ]
    },
    {
     "name": "stdin",
     "output_type": "stream",
     "text": [
      "Ingresa una operación (suma, resta, multiplicación, division) o 'exit' para salir:  division\n",
      "Ingresa un número para division:  3\n"
     ]
    },
    {
     "name": "stdout",
     "output_type": "stream",
     "text": [
      "Resultado parcial: 0.0\n"
     ]
    },
    {
     "name": "stdin",
     "output_type": "stream",
     "text": [
      "Ingresa una operación (suma, resta, multiplicación, division) o 'exit' para salir:  suma\n",
      "Ingresa un número para suma:  10\n"
     ]
    },
    {
     "name": "stdout",
     "output_type": "stream",
     "text": [
      "Resultado parcial: 10.0\n"
     ]
    },
    {
     "ename": "KeyboardInterrupt",
     "evalue": "Interrupted by user",
     "output_type": "error",
     "traceback": [
      "\u001b[0;31m---------------------------------------------------------------------------\u001b[0m",
      "\u001b[0;31mKeyboardInterrupt\u001b[0m                         Traceback (most recent call last)",
      "Cell \u001b[0;32mIn[53], line 9\u001b[0m\n\u001b[1;32m      5\u001b[0m resultado \u001b[38;5;241m=\u001b[39m \u001b[38;5;241m0\u001b[39m\n\u001b[1;32m      7\u001b[0m \u001b[38;5;28;01mwhile\u001b[39;00m \u001b[38;5;28;01mTrue\u001b[39;00m:\n\u001b[1;32m      8\u001b[0m     \u001b[38;5;66;03m# Pido al usuario que ingrese una operación o la palabra clave para salir\u001b[39;00m\n\u001b[0;32m----> 9\u001b[0m     operacion \u001b[38;5;241m=\u001b[39m \u001b[38;5;28;43minput\u001b[39;49m\u001b[43m(\u001b[49m\u001b[38;5;124;43m\"\u001b[39;49m\u001b[38;5;124;43mIngresa una operación (suma, resta, multiplicación, division) o \u001b[39;49m\u001b[38;5;124;43m'\u001b[39;49m\u001b[38;5;124;43mexit\u001b[39;49m\u001b[38;5;124;43m'\u001b[39;49m\u001b[38;5;124;43m para salir: \u001b[39;49m\u001b[38;5;124;43m\"\u001b[39;49m\u001b[43m)\u001b[49m\u001b[38;5;241m.\u001b[39mlower()\n\u001b[1;32m     11\u001b[0m     \u001b[38;5;28;01mif\u001b[39;00m operacion \u001b[38;5;129;01min\u001b[39;00m [\u001b[38;5;124m\"\u001b[39m\u001b[38;5;124mexit\u001b[39m\u001b[38;5;124m\"\u001b[39m, \u001b[38;5;124m\"\u001b[39m\u001b[38;5;124mquit\u001b[39m\u001b[38;5;124m\"\u001b[39m]:\n\u001b[1;32m     12\u001b[0m         \u001b[38;5;66;03m# El usuario quiere salir, terminamos el bucle\u001b[39;00m\n\u001b[1;32m     13\u001b[0m         \u001b[38;5;28mprint\u001b[39m(\u001b[38;5;124mf\u001b[39m\u001b[38;5;124m\"\u001b[39m\u001b[38;5;124mHasta luego, \u001b[39m\u001b[38;5;132;01m{\u001b[39;00mnombre\u001b[38;5;132;01m}\u001b[39;00m\u001b[38;5;124m! El resultado final es \u001b[39m\u001b[38;5;132;01m{\u001b[39;00mresultado\u001b[38;5;132;01m}\u001b[39;00m\u001b[38;5;124m.\u001b[39m\u001b[38;5;124m\"\u001b[39m)\n",
      "File \u001b[0;32m/Library/Frameworks/Python.framework/Versions/3.12/lib/python3.12/site-packages/ipykernel/kernelbase.py:1251\u001b[0m, in \u001b[0;36mKernel.raw_input\u001b[0;34m(self, prompt)\u001b[0m\n\u001b[1;32m   1249\u001b[0m     msg \u001b[38;5;241m=\u001b[39m \u001b[38;5;124m\"\u001b[39m\u001b[38;5;124mraw_input was called, but this frontend does not support input requests.\u001b[39m\u001b[38;5;124m\"\u001b[39m\n\u001b[1;32m   1250\u001b[0m     \u001b[38;5;28;01mraise\u001b[39;00m StdinNotImplementedError(msg)\n\u001b[0;32m-> 1251\u001b[0m \u001b[38;5;28;01mreturn\u001b[39;00m \u001b[38;5;28;43mself\u001b[39;49m\u001b[38;5;241;43m.\u001b[39;49m\u001b[43m_input_request\u001b[49m\u001b[43m(\u001b[49m\n\u001b[1;32m   1252\u001b[0m \u001b[43m    \u001b[49m\u001b[38;5;28;43mstr\u001b[39;49m\u001b[43m(\u001b[49m\u001b[43mprompt\u001b[49m\u001b[43m)\u001b[49m\u001b[43m,\u001b[49m\n\u001b[1;32m   1253\u001b[0m \u001b[43m    \u001b[49m\u001b[38;5;28;43mself\u001b[39;49m\u001b[38;5;241;43m.\u001b[39;49m\u001b[43m_parent_ident\u001b[49m\u001b[43m[\u001b[49m\u001b[38;5;124;43m\"\u001b[39;49m\u001b[38;5;124;43mshell\u001b[39;49m\u001b[38;5;124;43m\"\u001b[39;49m\u001b[43m]\u001b[49m\u001b[43m,\u001b[49m\n\u001b[1;32m   1254\u001b[0m \u001b[43m    \u001b[49m\u001b[38;5;28;43mself\u001b[39;49m\u001b[38;5;241;43m.\u001b[39;49m\u001b[43mget_parent\u001b[49m\u001b[43m(\u001b[49m\u001b[38;5;124;43m\"\u001b[39;49m\u001b[38;5;124;43mshell\u001b[39;49m\u001b[38;5;124;43m\"\u001b[39;49m\u001b[43m)\u001b[49m\u001b[43m,\u001b[49m\n\u001b[1;32m   1255\u001b[0m \u001b[43m    \u001b[49m\u001b[43mpassword\u001b[49m\u001b[38;5;241;43m=\u001b[39;49m\u001b[38;5;28;43;01mFalse\u001b[39;49;00m\u001b[43m,\u001b[49m\n\u001b[1;32m   1256\u001b[0m \u001b[43m\u001b[49m\u001b[43m)\u001b[49m\n",
      "File \u001b[0;32m/Library/Frameworks/Python.framework/Versions/3.12/lib/python3.12/site-packages/ipykernel/kernelbase.py:1295\u001b[0m, in \u001b[0;36mKernel._input_request\u001b[0;34m(self, prompt, ident, parent, password)\u001b[0m\n\u001b[1;32m   1292\u001b[0m \u001b[38;5;28;01mexcept\u001b[39;00m \u001b[38;5;167;01mKeyboardInterrupt\u001b[39;00m:\n\u001b[1;32m   1293\u001b[0m     \u001b[38;5;66;03m# re-raise KeyboardInterrupt, to truncate traceback\u001b[39;00m\n\u001b[1;32m   1294\u001b[0m     msg \u001b[38;5;241m=\u001b[39m \u001b[38;5;124m\"\u001b[39m\u001b[38;5;124mInterrupted by user\u001b[39m\u001b[38;5;124m\"\u001b[39m\n\u001b[0;32m-> 1295\u001b[0m     \u001b[38;5;28;01mraise\u001b[39;00m \u001b[38;5;167;01mKeyboardInterrupt\u001b[39;00m(msg) \u001b[38;5;28;01mfrom\u001b[39;00m \u001b[38;5;28;01mNone\u001b[39;00m\n\u001b[1;32m   1296\u001b[0m \u001b[38;5;28;01mexcept\u001b[39;00m \u001b[38;5;167;01mException\u001b[39;00m:\n\u001b[1;32m   1297\u001b[0m     \u001b[38;5;28mself\u001b[39m\u001b[38;5;241m.\u001b[39mlog\u001b[38;5;241m.\u001b[39mwarning(\u001b[38;5;124m\"\u001b[39m\u001b[38;5;124mInvalid Message:\u001b[39m\u001b[38;5;124m\"\u001b[39m, exc_info\u001b[38;5;241m=\u001b[39m\u001b[38;5;28;01mTrue\u001b[39;00m)\n",
      "\u001b[0;31mKeyboardInterrupt\u001b[0m: Interrupted by user"
     ]
    }
   ],
   "source": [
    "# Saludo al usuario\n",
    "nombre = input(\"Hola, ¿cuál es tu nombre? \")\n",
    "print(f\"Hola {nombre}. Encantado de saludarte!\")\n",
    "\n",
    "resultado = 0\n",
    "\n",
    "while True:\n",
    "    # Pido al usuario que ingrese una operación o la palabra clave para salir\n",
    "    operacion = input(\"Ingresa una operación (suma, resta, multiplicación, division) o 'exit' para salir: \").lower()\n",
    "    \n",
    "    if operacion in [\"exit\", \"quit\"]:\n",
    "        # El usuario quiere salir, terminamos el bucle\n",
    "        print(f\"Hasta luego, {nombre}! El resultado final es {resultado}.\")\n",
    "        break\n",
    "    \n",
    "    if operacion not in [\"suma\", \"resta\", \"multiplicación\", \"division\"]:\n",
    "        print(\"Operación no válida. Por favor, ingresa una operación válida o 'exit' para salir.\")\n",
    "        continue\n",
    "    \n",
    "    # Solicito un número al usuario\n",
    "    try:\n",
    "        numero = float(input(f\"Ingresa un número para {operacion}: \"))\n",
    "    except ValueError:\n",
    "        print(\"Por favor, ingresa un número válido.\")\n",
    "        continue\n",
    "\n",
    "    # Realizo la operación seleccionada y actualizo el resultado\n",
    "    if operacion == \"suma\":\n",
    "        resultado += numero\n",
    "    elif operacion == \"resta\":\n",
    "        resultado -= numero\n",
    "    elif operacion == \"multiplicacion\":\n",
    "        resultado *= numero\n",
    "    elif operacion == \"division\":\n",
    "        if numero == 0:\n",
    "            print(\"No se puede dividir por 0. Por favor, elige un divisor diferente de 0.\")\n",
    "            continue\n",
    "        resultado /= numero\n",
    "\n",
    "    # Muestro el resultado parcial\n",
    "    print(f\"Resultado parcial: {resultado}\")"
   ]
  },
  {
   "attachments": {},
   "cell_type": "markdown",
   "metadata": {},
   "source": [
    "### Ejercicio 2 (3 puntos)\n",
    "\n",
    "#### Crear un programa que calcule la cuota de una hipoteca\n",
    "\n",
    "Las cuotas hipotecarias se calculan utilizando la fórmula del interés francés. \n",
    "\n",
    "La fórmula del interés francés es la siguiente:\n",
    "\\begin{align*}\n",
    "C=V \\frac{(1+i)^n i}{(1+i)^n -1}\n",
    "\\end{align*}\n",
    "\n",
    "\n",
    "    C = cuota a pagar (mensual)\n",
    "    V = volumen del préstamo hipotecario\n",
    "    i = tipo de interés del período (mensual)\n",
    "    n = número de cuotas (mensuales)\n",
    "\n"
   ]
  },
  {
   "attachments": {},
   "cell_type": "markdown",
   "metadata": {},
   "source": [
    "1. Crea un programa que solicite al usuario los datos de su hipoteca mediante input() los datos (volumen, interés **anual**, y plazo en **años**) y le devuelva la cuota **mensual** a pagar. No es necesario encapsularlo en funciones. (0.4)"
   ]
  },
  {
   "cell_type": "code",
   "execution_count": 23,
   "metadata": {},
   "outputs": [
    {
     "ename": "SyntaxError",
     "evalue": "invalid syntax. Perhaps you forgot a comma? (2550459146.py, line 2)",
     "output_type": "error",
     "traceback": [
      "\u001b[0;36m  Cell \u001b[0;32mIn[23], line 2\u001b[0;36m\u001b[0m\n\u001b[0;31m    interes = float(input(\"Por favor introduce el interes anual)\".replace(\"%\",\"\").replace(\",\",\".\"))\u001b[0m\n\u001b[0m                    ^\u001b[0m\n\u001b[0;31mSyntaxError\u001b[0m\u001b[0;31m:\u001b[0m invalid syntax. Perhaps you forgot a comma?\n"
     ]
    }
   ],
   "source": [
    "volumen = float(input(\"por favor introduce cuanto desea pedir\".replace(\",\",\".\")))\n",
    "interes = float(input(\"Por favor introduce el interes anual)\".replace(\"%\",\"\").replace(\",\",\".\"))\n",
    "plazo = int(input(\"Plazo en años?\")) \n",
    "V = volumen\n",
    "i = interes / 100 / 12\n",
    "n = plazo * 12\n",
    "\n",
    "numerador = V * ((i+1)**n)*i\n",
    "denominador = (i + 1) **n)-1\n",
    "\n",
    "C = numerador/denominador\n",
    "\n",
    "print(\"Cota es de\", C)\n",
    "\n",
    "\n",
    "\n"
   ]
  },
  {
   "attachments": {},
   "cell_type": "markdown",
   "metadata": {},
   "source": [
    "2. Crea una función `calcular_hip` que realiza el cálculo y cuyos argumentos de entrada sean `volumen`, `interes_anual` y `años`, devolviendo la couta mensual(float). El argumento de `años` deberá de tener un valor por defecto de 30. Documenta la función con el estilo de Google.  (0.4)"
   ]
  },
  {
   "cell_type": "code",
   "execution_count": 29,
   "metadata": {},
   "outputs": [
    {
     "name": "stdout",
     "output_type": "stream",
     "text": [
      "Cota es de 2029.8590129408208\n"
     ]
    }
   ],
   "source": [
    "def calcular_hip(volumen,interes_anual,anyos):\n",
    "    V = volumen\n",
    "    i = interes_anual / 100 / 12\n",
    "    n = anyos * 12\n",
    "\n",
    "    numerador = V * ((i+1)**n)*i\n",
    "    denominador = ((i + 1) **n)-1\n",
    "    \n",
    "    C = numerador/denominador\n",
    "    return C\n",
    "\n",
    "\n",
    "print(\"Cota es de\", calcular_hip(350000,3.5,20))\n",
    "\n"
   ]
  },
  {
   "attachments": {},
   "cell_type": "markdown",
   "metadata": {},
   "source": [
    "3. Calcula la cuota y guárdala en la variable `res_cuota` si la cantidad de la hipoteca son 350000 euros, el interés anual es del 5% y la quiere pagar en 20 años a partir de la función `calcular_hip`. (0.4)\n",
    "\n"
   ]
  },
  {
   "cell_type": "code",
   "execution_count": 36,
   "metadata": {},
   "outputs": [],
   "source": [
    "def gasto_vivienda(ingreso,lista_hip):\n",
    "    C = calcular_hip(lista_hip[0],lista_hip[1],lista_hip[3]) # *lista_hip te resume todo \n",
    "    porcentaje = C/ingreso\n",
    "    return porcentaje\n",
    "    "
   ]
  },
  {
   "attachments": {},
   "cell_type": "markdown",
   "metadata": {},
   "source": [
    "4. Crea una función `gasto_vivienda`, con dos argumentos de entrada `ingreso` y `lista_hip`. Esta lista tendrá los 3 valores de los argumentos de entrada de `calcular_hip`, llamando a esta función desde dentro de `gasto_vivienda`. Tiene que devolver el valor del porcentaje de gasto en la hipoteca respecto a los ingresos. (Entre 0 y 1, es decir 0.5 si es del 50%) Documenta la función. (0.4)"
   ]
  },
  {
   "cell_type": "code",
   "execution_count": 38,
   "metadata": {},
   "outputs": [
    {
     "ename": "SyntaxError",
     "evalue": "invalid syntax (3111792692.py, line 1)",
     "output_type": "error",
     "traceback": [
      "\u001b[0;36m  Cell \u001b[0;32mIn[38], line 1\u001b[0;36m\u001b[0m\n\u001b[0;31m    res_porcentaje = gasto_vivienda 0.5\u001b[0m\n\u001b[0m                                    ^\u001b[0m\n\u001b[0;31mSyntaxError\u001b[0m\u001b[0;31m:\u001b[0m invalid syntax\n"
     ]
    }
   ],
   "source": [
    "res_porcentaje = gasto_vivienda 0.5\n",
    "if res_porcentaje > porcentaje_seguro:\n",
    "    print(\"Denegada\")\n",
    "else:\n",
    "    print(\"Subir interes\")\n",
    "    "
   ]
  },
  {
   "attachments": {},
   "cell_type": "markdown",
   "metadata": {},
   "source": [
    "5. Calcula el porcentaje de gasto en la hipoteca si el ingreso es de 1700 euros y guárdalo en la variable `res_porcentaje` a partir de la función `gasto_vivienda`. (0.4)\n"
   ]
  },
  {
   "cell_type": "markdown",
   "metadata": {},
   "source": [
    "#### Ejercicio 3 (3 puntos)\n",
    "\n",
    "Crea un programa que simule un carrusel infantil.\n",
    "\n",
    "\n",
    "El carrusel infantil tiene 3 posibles cochecitos: barco - bomberos - avioneta (una variable global de tipo lista, fuera de tu función).\n",
    "\n",
    "Debes escribir una **FUNCIÓN** llamada carrusel que tenga dos parámetros de entrada: el cochecito que eliges (puede valer el string barco, bomberos o avioneta) y un segundo parámetro llamado vueltas que es un entero.\n",
    "\n",
    "Tu función carrusel NO debe retornar nada, pero debe llamar internamente a coloca(cochecito), ya te lo doy programado. Si sientas al niño en \"avioneta\" y pones 3 vueltas, la función debería imprimir:\n",
    "\n",
    "\"vuelta 1: avioneta - barco - bomberos\"\n",
    "\n",
    "\"vuelta 2: avioneta - barco - bomberos\"\n",
    "\n",
    "\"vuelta 3: avioneta - barco - bomberos\"\n",
    "\n",
    "Se valorará positivamente que haya **UN BUCLE WHILE**.\n",
    "Si no te acaba de funcionar llamando a coloca(cochecito) tras un tiempo prudencial, escribe tu código sin usarlo."
   ]
  },
  {
   "cell_type": "code",
   "execution_count": 44,
   "metadata": {},
   "outputs": [],
   "source": [
    "lista_carrusel = [\"barco\", \"bomberos\", \"avioneta\"]\n",
    "\n",
    "def coloca(cochecito):  #cochecito = avioneta\n",
    "    if cochecito == \"barco\": # false\n",
    "        return lista_carrusel # no se ejecuta\n",
    "    elif cochecito == \"bomberos\" or cochecito == \"avioneta\": #true\n",
    "        elemento = lista_carrusel.pop(0)# elemento = barco, lista carrusel = [bomberos avioneta]\n",
    "        lista_carrusel.append(elemento) # lista carrusel bomberos avioneta barco\n",
    "    if cochecito == \"avioneta\": # true\n",
    "        elemento = lista_carrusel.pop(0) # elemento = bomberos, lista carrusel = avioneta barco \n",
    "        lista_carrusel.append(elemento) # llista carrusel = avioneta barco bomberos\n",
    "    return lista_carrusel # lista_carrusel = avioneta barco bomeros\n",
    "\n"
   ]
  },
  {
   "cell_type": "code",
   "execution_count": 45,
   "metadata": {},
   "outputs": [
    {
     "name": "stdout",
     "output_type": "stream",
     "text": [
      "vuelta 1: avioneta - barco - bomberos\n",
      "vuelta 2: avioneta - barco - bomberos\n",
      "vuelta 3: avioneta - barco - bomberos\n"
     ]
    }
   ],
   "source": [
    "def carrusel(cochecito,num_vueltas): #cochecito = \"avioneta\"\n",
    "    orden = coloca(cochecito)\n",
    "    for i in range(num_vueltas):\n",
    "        print(f\"vuelta {i+1}: {\" - \".join(orden)}\")\n",
    "carrusel(\"avioneta\",3)\n",
    "    "
   ]
  },
  {
   "cell_type": "markdown",
   "metadata": {},
   "source": [
    "**EJERCICIO BONUS:**\n",
    "1. Crea una función que, dado un input `x`, devuelva \n",
    "$$\n",
    "y = 4x + 2\n",
    "$$\n",
    "\n",
    "2. Crea una función que, dado un input `x`, devuelva \n",
    "$$\n",
    "y = 3x^2 + 4x + 2\n",
    "$$\n",
    "\n",
    "3. Dado el polinomio\n",
    "\n",
    "$$\n",
    "a_nx^n + a_{n-1}x^{n-1} + ... + a_2x^2 + a_1x + a_0\n",
    "$$\n",
    "\n",
    "Crea una función que reciba como input `x` y una lista de `[a_0, ..., a_n]` y devuelva el valor del polinomio en `x`.\n",
    "\n",
    "**Nota**: En caso de no poder con una función, hacerlo como se pueda.\n",
    "\n",
    "**Pista**: El primero cumple `n = 1` y los parámetros son `[2, 4]`. El segundo: `n = 2` y los parámetros `[2, 4, 3]`. Con esta información, intenta generalizar."
   ]
  },
  {
   "cell_type": "code",
   "execution_count": 18,
   "metadata": {},
   "outputs": [
    {
     "name": "stdin",
     "output_type": "stream",
     "text": [
      "Deme un numero para X:  5\n"
     ]
    },
    {
     "name": "stdout",
     "output_type": "stream",
     "text": [
      "22\n"
     ]
    }
   ],
   "source": [
    "#1\n",
    "x = int(input(\"Deme un numero para X: \"))\n",
    "y = 4*x + 2\n",
    "print(y)"
   ]
  },
  {
   "cell_type": "code",
   "execution_count": 16,
   "metadata": {},
   "outputs": [
    {
     "name": "stdin",
     "output_type": "stream",
     "text": [
      "Deme un numero para X 4\n"
     ]
    },
    {
     "name": "stdout",
     "output_type": "stream",
     "text": [
      "66\n"
     ]
    }
   ],
   "source": [
    "#2\n",
    "x = int(input(\"Deme un numero para X: \"))\n",
    "y = 3*(x**2) + 4*x + 2\n",
    "\n",
    "print(y)\n",
    "\n"
   ]
  },
  {
   "cell_type": "code",
   "execution_count": null,
   "metadata": {},
   "outputs": [],
   "source": [
    "#3\n"
   ]
  }
 ],
 "metadata": {
  "kernelspec": {
   "display_name": "Python 3 (ipykernel)",
   "language": "python",
   "name": "python3"
  },
  "language_info": {
   "codemirror_mode": {
    "name": "ipython",
    "version": 3
   },
   "file_extension": ".py",
   "mimetype": "text/x-python",
   "name": "python",
   "nbconvert_exporter": "python",
   "pygments_lexer": "ipython3",
   "version": "3.12.0"
  },
  "vscode": {
   "interpreter": {
    "hash": "90139cb9a825bf3d63f6f6704e828dbd1ff7edbd4d0c6e906a71235d6efc74af"
   }
  }
 },
 "nbformat": 4,
 "nbformat_minor": 4
}
